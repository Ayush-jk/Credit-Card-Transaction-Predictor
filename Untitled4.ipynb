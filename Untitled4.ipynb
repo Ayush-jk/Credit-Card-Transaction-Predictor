{
  "nbformat": 4,
  "nbformat_minor": 0,
  "metadata": {
    "colab": {
      "provenance": [],
      "authorship_tag": "ABX9TyPmPyfnSRYHWH7YWEtdpNYv",
      "include_colab_link": true
    },
    "kernelspec": {
      "name": "python3",
      "display_name": "Python 3"
    },
    "language_info": {
      "name": "python"
    }
  },
  "cells": [
    {
      "cell_type": "markdown",
      "metadata": {
        "id": "view-in-github",
        "colab_type": "text"
      },
      "source": [
        "<a href=\"https://colab.research.google.com/github/Ayush-jk/PES-IO/blob/main/Untitled4.ipynb\" target=\"_parent\"><img src=\"https://colab.research.google.com/assets/colab-badge.svg\" alt=\"Open In Colab\"/></a>"
      ]
    },
    {
      "cell_type": "code",
      "execution_count": null,
      "metadata": {
        "colab": {
          "base_uri": "https://localhost:8080/"
        },
        "id": "v2JYtI8fvah9",
        "outputId": "19117c15-ffa4-468b-8b49-33925c2f12f8"
      },
      "outputs": [
        {
          "output_type": "stream",
          "name": "stdout",
          "text": [
            "please enter a number = 56\n",
            "the given number is even\n"
          ]
        }
      ],
      "source": [
        "N=int(input(\"please enter a number = \"))\n",
        "if N%2==0:\n",
        "  print(\"the given number is even\")\n",
        "else:\n",
        "  print(\"the number entered is odd\")"
      ]
    },
    {
      "cell_type": "code",
      "source": [
        "A=input(\"please enter the text :\")\n",
        "x=[\"a\",\"e\",\"i\",\"o\",\"u\"]\n",
        "for i in A:\n",
        "  if i in x:\n",
        "    print(i)\n"
      ],
      "metadata": {
        "colab": {
          "base_uri": "https://localhost:8080/"
        },
        "id": "IK3CVRRqvmFL",
        "outputId": "6cd393a2-6906-41b8-da81-b7e728219ee7"
      },
      "execution_count": null,
      "outputs": [
        {
          "output_type": "stream",
          "name": "stdout",
          "text": [
            "please enter the text :pesu-io\n",
            "e\n",
            "u\n",
            "i\n",
            "o\n"
          ]
        }
      ]
    },
    {
      "cell_type": "code",
      "source": [
        "a=\"betty had some butter but the butter was bitter so betty baught some better butter to make the bitter butter better\"\n",
        "b=a.split()\n",
        "c=set(b)\n",
        "print(c)\n",
        "print(\"the number of unique characters in the given text = \", len(c))"
      ],
      "metadata": {
        "colab": {
          "base_uri": "https://localhost:8080/"
        },
        "id": "v3jy8jvYvufM",
        "outputId": "1337b4c2-4c6e-49d3-eaba-fb6e3c2052c3"
      },
      "execution_count": null,
      "outputs": [
        {
          "output_type": "stream",
          "name": "stdout",
          "text": [
            "{'to', 'so', 'baught', 'but', 'butter', 'had', 'was', 'bitter', 'better', 'make', 'betty', 'the', 'some'}\n",
            "the number of unique characters in the given text =  13\n"
          ]
        }
      ]
    },
    {
      "cell_type": "code",
      "source": [
        "a=\"betty had some butter but the butter was bitter so betty baught some better butter to make the bitter butter better\"\n",
        "c=a.split()\n",
        "b={}\n",
        "for i in c:\n",
        "  if i in b:\n",
        "     b[i]+=1\n",
        "  else:\n",
        "    b[i]=1\n",
        "print(b)\n"
      ],
      "metadata": {
        "colab": {
          "base_uri": "https://localhost:8080/"
        },
        "id": "T6lHNSS_v4JY",
        "outputId": "d83109da-325a-438a-9b9a-7d286f6f405f"
      },
      "execution_count": null,
      "outputs": [
        {
          "output_type": "stream",
          "name": "stdout",
          "text": [
            "{'betty': 2, 'had': 1, 'some': 2, 'butter': 4, 'but': 1, 'the': 2, 'was': 1, 'bitter': 2, 'so': 1, 'baught': 1, 'better': 2, 'to': 1, 'make': 1}\n"
          ]
        }
      ]
    },
    {
      "cell_type": "code",
      "source": [
        "a= input(\"please enter your text here : \")\n",
        "b=a.split()\n",
        "c=0\n",
        "for i in b:\n",
        "  c=c+1\n",
        "print(\"the number of words in the given text is \", c)\n",
        "d={}\n",
        "for i in b:\n",
        "  if i in d:\n",
        "    d[i]+=1\n",
        "  else:\n",
        "    d[i]=1\n",
        "e=set(d)\n",
        "print(\"the number of unique words in the given text : \" , len(d))\n",
        "print(\"these are all the unique characters in the given text = \" ,\"\\n\" , e)\n",
        "print(\"the number of each uniques character :\" ,\"\\n\" ,d)\n"
      ],
      "metadata": {
        "colab": {
          "base_uri": "https://localhost:8080/"
        },
        "id": "KTcpex1Bv8Tj",
        "outputId": "32110c59-5770-4a2b-fafc-f4a6a097f515"
      },
      "execution_count": null,
      "outputs": [
        {
          "output_type": "stream",
          "name": "stdout",
          "text": [
            "please enter your text here : betty had some butter but the butter was bitter so betty baught some better butter to make the bitter butter better\n",
            "the number of words in the given text is  21\n",
            "the number of unique words in the given text :  13\n",
            "these are all the unique characters in the given text =  \n",
            " {'to', 'so', 'baught', 'but', 'butter', 'had', 'was', 'bitter', 'better', 'make', 'betty', 'the', 'some'}\n",
            "the number of each uniques character : \n",
            " {'betty': 2, 'had': 1, 'some': 2, 'butter': 4, 'but': 1, 'the': 2, 'was': 1, 'bitter': 2, 'so': 1, 'baught': 1, 'better': 2, 'to': 1, 'make': 1}\n"
          ]
        }
      ]
    },
    {
      "cell_type": "code",
      "source": [
        "a=1\n",
        "b=\"*\"\n",
        "while a!=6:\n",
        "  print(b*a)\n",
        "  a=a+1"
      ],
      "metadata": {
        "colab": {
          "base_uri": "https://localhost:8080/"
        },
        "id": "tTJDPwYpwAtj",
        "outputId": "33bb77c1-dad3-4c8a-b1e3-71158aa3f90b"
      },
      "execution_count": null,
      "outputs": [
        {
          "output_type": "stream",
          "name": "stdout",
          "text": [
            "*\n",
            "**\n",
            "***\n",
            "****\n",
            "*****\n"
          ]
        }
      ]
    },
    {
      "cell_type": "code",
      "source": [
        "a,b= input(\"enetr their names \").split(\" \")\n",
        "c,d= input(\"enetrtheir ages \").split(\" \")\n",
        "print(\"the total of\", a ,'and ', b , \"ages=\", int(c)+int(d))"
      ],
      "metadata": {
        "colab": {
          "base_uri": "https://localhost:8080/"
        },
        "id": "dj5cp4MFygzk",
        "outputId": "9b25f7bd-c1bc-4783-fa26-def227b2e404"
      },
      "execution_count": null,
      "outputs": [
        {
          "output_type": "stream",
          "name": "stdout",
          "text": [
            "enetr their names ayush pratyush\n",
            "enetrtheir ages 18 11\n",
            "the total of ayush and  pratyush ages= 29\n"
          ]
        }
      ]
    },
    {
      "cell_type": "code",
      "source": [
        "a,b,c=input(\"please enter any 3 numbers  \").split(\" \")\n",
        "d= int(a)+int(b)+int(c)\n",
        "e=d/3\n",
        "print(e)"
      ],
      "metadata": {
        "colab": {
          "base_uri": "https://localhost:8080/"
        },
        "id": "phi4FQ3xQ3Y1",
        "outputId": "279a0862-94ed-402f-c2b3-920e30585456"
      },
      "execution_count": 1,
      "outputs": [
        {
          "output_type": "stream",
          "name": "stdout",
          "text": [
            "please enter any 3 numbers  1 2 3\n",
            "2.0\n"
          ]
        }
      ]
    },
    {
      "cell_type": "code",
      "source": [
        "l,b,h=input(\"enter length and breath and height \").split(\" \")\n",
        "d=int(l)*int(b)*int(h)\n",
        "print(d)"
      ],
      "metadata": {
        "colab": {
          "base_uri": "https://localhost:8080/"
        },
        "id": "DvMx_4FFRmcb",
        "outputId": "1b64721b-27c4-4e99-8e8c-d7a800cf56ad"
      },
      "execution_count": null,
      "outputs": [
        {
          "output_type": "stream",
          "name": "stdout",
          "text": [
            "enter length and breath and height 10 10 10\n",
            "1000\n"
          ]
        }
      ]
    },
    {
      "cell_type": "code",
      "source": [
        "a=int(input(\"enter a number \"))\n",
        "b=1\n",
        "for i in range (1,a+1):\n",
        "  b=b*i\n",
        "print(b)"
      ],
      "metadata": {
        "colab": {
          "base_uri": "https://localhost:8080/"
        },
        "id": "ThmeQyrfSE86",
        "outputId": "5413832e-c93c-4428-b61f-697e7196b276"
      },
      "execution_count": null,
      "outputs": [
        {
          "output_type": "stream",
          "name": "stdout",
          "text": [
            "enter a number 5\n",
            "120\n"
          ]
        }
      ]
    },
    {
      "cell_type": "code",
      "source": [
        "a, b=input(\"enetr any 2 natural numbers \").split(\" \")\n",
        "c=int(a)+int(b)\n",
        "print(c)\n",
        "\n"
      ],
      "metadata": {
        "colab": {
          "base_uri": "https://localhost:8080/"
        },
        "id": "PyjURgNcdVK8",
        "outputId": "f4fa6e43-384f-4852-f988-97a2fc8d2d26"
      },
      "execution_count": null,
      "outputs": [
        {
          "output_type": "stream",
          "name": "stdout",
          "text": [
            "enetr natural numbers 5 6\n",
            "11\n"
          ]
        }
      ]
    },
    {
      "cell_type": "code",
      "source": [
        "a=[10,20,30,10,40,20,40,10 ,50,60,30]\n",
        "b=[]\n",
        "c=[]\n",
        "for i in a:\n",
        "  if i not in b:\n",
        "    b.append(i)\n",
        "  elif i in b:\n",
        "    c.append(i)\n",
        "print(c)\n",
        "\n",
        "\n"
      ],
      "metadata": {
        "colab": {
          "base_uri": "https://localhost:8080/"
        },
        "id": "IybvsRJJfXVa",
        "outputId": "f1f7e1e0-d181-45ff-a660-327ca2a1cd59"
      },
      "execution_count": null,
      "outputs": [
        {
          "output_type": "stream",
          "name": "stdout",
          "text": [
            "[10, 20, 40, 10, 30]\n"
          ]
        }
      ]
    },
    {
      "cell_type": "code",
      "source": [],
      "metadata": {
        "id": "M1KL1lw0jNcs"
      },
      "execution_count": null,
      "outputs": []
    }
  ]
}